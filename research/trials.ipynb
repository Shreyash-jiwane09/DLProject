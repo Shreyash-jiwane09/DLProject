{
 "cells": [
  {
   "cell_type": "code",
   "execution_count": 1,
   "id": "b1722c93",
   "metadata": {},
   "outputs": [],
   "source": [
    "import gdown\n",
    "\n",
    "url = \"https://drive.google.com/file/d/1vFMoDhS48xC0TGnPd1224QUIeZ5syXcE/view?usp=sharing\"\n"
   ]
  },
  {
   "cell_type": "code",
   "execution_count": 2,
   "id": "694e6d7c",
   "metadata": {},
   "outputs": [
    {
     "data": {
      "text/plain": [
       "'1vFMoDhS48xC0TGnPd1224QUIeZ5syXcE'"
      ]
     },
     "execution_count": 2,
     "metadata": {},
     "output_type": "execute_result"
    }
   ],
   "source": [
    "file_id = url.split(\"/\")[-2]\n",
    "file_id"
   ]
  },
  {
   "cell_type": "code",
   "execution_count": 3,
   "id": "67c883ea",
   "metadata": {},
   "outputs": [
    {
     "name": "stderr",
     "output_type": "stream",
     "text": [
      "Downloading...\n",
      "From: https://drive.google.com/uc?/export=download&id=1vFMoDhS48xC0TGnPd1224QUIeZ5syXcE\n",
      "To: f:\\Final_project\\DLProject\\research\\adenocarcinoma\n",
      "100%|██████████| 4.63M/4.63M [00:02<00:00, 2.22MB/s]\n"
     ]
    },
    {
     "data": {
      "text/plain": [
       "'adenocarcinoma'"
      ]
     },
     "execution_count": 3,
     "metadata": {},
     "output_type": "execute_result"
    }
   ],
   "source": [
    "prefix = 'https://drive.google.com/uc?/export=download&id='\n",
    "gdown.download(prefix+file_id,\"adenocarcinoma\")    "
   ]
  }
 ],
 "metadata": {
  "kernelspec": {
   "display_name": "Python 3",
   "language": "python",
   "name": "python3"
  },
  "language_info": {
   "codemirror_mode": {
    "name": "ipython",
    "version": 3
   },
   "file_extension": ".py",
   "mimetype": "text/x-python",
   "name": "python",
   "nbconvert_exporter": "python",
   "pygments_lexer": "ipython3",
   "version": "3.8.0"
  }
 },
 "nbformat": 4,
 "nbformat_minor": 5
}
